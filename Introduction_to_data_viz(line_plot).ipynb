{
  "nbformat": 4,
  "nbformat_minor": 0,
  "metadata": {
    "colab": {
      "name": "Introduction to data viz(line plot).ipynb",
      "provenance": []
    },
    "kernelspec": {
      "name": "python3",
      "display_name": "Python 3"
    },
    "language_info": {
      "name": "python"
    }
  },
  "cells": [
    {
      "cell_type": "markdown",
      "metadata": {
        "id": "YU9wy_Fm6nvX"
      },
      "source": [
        "# **Question 1**\n",
        "\n"
      ]
    },
    {
      "cell_type": "markdown",
      "metadata": {
        "id": "fZr94z1k6zMz"
      },
      "source": [
        "plot a line plot between a and b:\n",
        "\n",
        "a=np.arange(40,50)\n",
        "\n",
        "b=np.arange(50,60)"
      ]
    },
    {
      "cell_type": "code",
      "metadata": {
        "id": "br7CX_5l258Q"
      },
      "source": [
        "import numpy as np\n",
        "import matplotlib as mtp\n",
        "import matplotlib.pyplot as plt\n",
        "%matplotlib inline"
      ],
      "execution_count": null,
      "outputs": []
    },
    {
      "cell_type": "code",
      "metadata": {
        "colab": {
          "base_uri": "https://localhost:8080/",
          "height": 282
        },
        "id": "28-nJCdi7ax3",
        "outputId": "ba402bf7-39c9-44ba-d16c-db02dd2d4e45"
      },
      "source": [
        "a=np.arange(40,50)\n",
        "b=np.arange(50,60)\n",
        "plt.plot(a,b)"
      ],
      "execution_count": null,
      "outputs": [
        {
          "output_type": "execute_result",
          "data": {
            "text/plain": [
              "[<matplotlib.lines.Line2D at 0x7fe942c62710>]"
            ]
          },
          "metadata": {
            "tags": []
          },
          "execution_count": 4
        },
        {
          "output_type": "display_data",
          "data": {
            "image/png": "[encoded data removed]",
            "text/plain": [
              "<Figure size 432x288 with 1 Axes>"
            ]
          },
          "metadata": {
            "tags": [],
            "needs_background": "light"
          }
        }
      ]
    },
    {
      "cell_type": "markdown",
      "metadata": {
        "id": "KfLOqlQu8OjY"
      },
      "source": [
        "# **Question** 2\n"
      ]
    },
    {
      "cell_type": "markdown",
      "metadata": {
        "id": "1fSmZtoY8Vzm"
      },
      "source": [
        "Plot a line plot showing the sales trend in company 1 and 2:\n",
        "\n",
        "days = [1,2,3,4,5,6,7] #days of the week\n",
        "\n",
        "sales_1 = [160,150,140,145,175,165,180] #sales of company1\n",
        "\n",
        "sales_2 = [70,90,160,150,140,145,175]  #sales of company2\n"
      ]
    },
    {
      "cell_type": "code",
      "metadata": {
        "id": "hGZ452xN7jQ8"
      },
      "source": [
        "days = [1,2,3,4,5,6,7] #days of the week\n",
        "sales_1 = [160,150,140,145,175,165,180] #sales of company1\n",
        "sales_2 = [70,90,160,150,140,145,175]  #sales of company2"
      ],
      "execution_count": null,
      "outputs": []
    },
    {
      "cell_type": "code",
      "metadata": {
        "colab": {
          "base_uri": "https://localhost:8080/",
          "height": 312
        },
        "id": "O31qVeYU9rRd",
        "outputId": "25c81d6c-b04b-4aba-f1e4-def9f4a81aec"
      },
      "source": [
        "# for company 1\n",
        "plt.plot(days, sales_1, 'r--', linewidth = 2)\n",
        "plt.title('Trends of company 1')\n",
        "plt.xlabel('days')\n",
        "plt.ylabel('sales')"
      ],
      "execution_count": null,
      "outputs": [
        {
          "output_type": "execute_result",
          "data": {
            "text/plain": [
              "Text(0, 0.5, 'sales')"
            ]
          },
          "metadata": {
            "tags": []
          },
          "execution_count": 11
        },
        {
          "output_type": "display_data",
          "data": {
            "image/png": "[encoded data removed]",
            "text/plain": [
              "<Figure size 432x288 with 1 Axes>"
            ]
          },
          "metadata": {
            "tags": [],
            "needs_background": "light"
          }
        }
      ]
    },
    {
      "cell_type": "code",
      "metadata": {
        "colab": {
          "base_uri": "https://localhost:8080/",
          "height": 312
        },
        "id": "TjLpPveX9xC6",
        "outputId": "36d72301-3fe9-4c3c-83ea-983ccc01cd55"
      },
      "source": [
        "# for compant 2\n",
        "plt.plot(days, sales_2, 'g-.', linewidth =2)\n",
        "plt.title('Trends of company 2')\n",
        "plt.xlabel('days')\n",
        "plt.ylabel('sales')"
      ],
      "execution_count": null,
      "outputs": [
        {
          "output_type": "execute_result",
          "data": {
            "text/plain": [
              "Text(0, 0.5, 'sales')"
            ]
          },
          "metadata": {
            "tags": []
          },
          "execution_count": 14
        },
        {
          "output_type": "display_data",
          "data": {
            "image/png": "[encoded data removed]",
            "text/plain": [
              "<Figure size 432x288 with 1 Axes>"
            ]
          },
          "metadata": {
            "tags": [],
            "needs_background": "light"
          }
        }
      ]
    },
    {
      "cell_type": "markdown",
      "metadata": {
        "id": "0OsS-TWg_AZg"
      },
      "source": [
        "# **Question 3**\n",
        " \n"
      ]
    },
    {
      "cell_type": "markdown",
      "metadata": {
        "id": "8I8dtaqK_HsS"
      },
      "source": [
        "Create a 3 by 3 subplots:\n",
        "\n",
        "multiple plots\n",
        "\n",
        "x = [1,2,3,4]\n",
        "\n",
        "y1 = [4,3,2,1]\n",
        "\n",
        "y2 = [10,20,30,40]\n",
        "\n",
        "y3 = [40,30,20,10]\n",
        "\n",
        "y4 = [1,2,1,2]\n",
        "\n",
        "y5 = [40,70,90,70]"
      ]
    },
    {
      "cell_type": "code",
      "metadata": {
        "id": "JuDrh1q2-okM"
      },
      "source": [
        "x = [1,2,3,4]\n",
        "y1 = [4,3,2,1]\n",
        "y2 = [10,20,30,40]\n",
        "y3 = [40,30,20,10]\n",
        "y4 = [1,2,1,2]\n",
        "y5 = [40,70,90,70]"
      ],
      "execution_count": null,
      "outputs": []
    },
    {
      "cell_type": "code",
      "metadata": {
        "colab": {
          "base_uri": "https://localhost:8080/",
          "height": 207
        },
        "id": "c-kOotp3_x1v",
        "outputId": "591e824e-f0c3-4b39-8bf9-714c48a2d1f7"
      },
      "source": [
        "# creating subplots\n",
        "plt.subplot(3,3,1)\n",
        "plt.plot(x,y1,'r--')\n",
        "plt.subplot(3,3,2)\n",
        "plt.plot(x,y2,'g*--')\n",
        "plt.subplot(3,3,3)\n",
        "plt.plot(x,y3,'bo')\n",
        "plt.subplot(3,3,4)\n",
        "plt.plot(x,y4,'go')\n",
        "plt.subplot(3,3,5)\n",
        "plt.plot(x,y5,'yo')"
      ],
      "execution_count": null,
      "outputs": [
        {
          "output_type": "execute_result",
          "data": {
            "text/plain": [
              "[<matplotlib.lines.Line2D at 0x7fe9420a2390>]"
            ]
          },
          "metadata": {
            "tags": []
          },
          "execution_count": 18
        },
        {
          "output_type": "display_data",
          "data": {
            "image/png": "[encoded data removed]",
            "text/plain": [
              "<Figure size 432x288 with 5 Axes>"
            ]
          },
          "metadata": {
            "tags": [],
            "needs_background": "light"
          }
        }
      ]
    },
    {
      "cell_type": "code",
      "metadata": {
        "id": "QpXWBIxkAHOR"
      },
      "source": [
        ""
      ],
      "execution_count": null,
      "outputs": []
    }
  ]
}